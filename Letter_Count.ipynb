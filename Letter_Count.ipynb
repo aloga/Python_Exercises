{
  "nbformat": 4,
  "nbformat_minor": 0,
  "metadata": {
    "colab": {
      "name": "Untitled46.ipynb",
      "provenance": [],
      "authorship_tag": "ABX9TyOBTVstUyxlOhEkT0ORkl0i",
      "include_colab_link": true
    },
    "kernelspec": {
      "name": "python3",
      "display_name": "Python 3"
    },
    "language_info": {
      "name": "python"
    }
  },
  "cells": [
    {
      "cell_type": "markdown",
      "metadata": {
        "id": "view-in-github",
        "colab_type": "text"
      },
      "source": [
        "<a href=\"https://colab.research.google.com/github/aloga/Python_Exercises/blob/main/Letter_Count.ipynb\" target=\"_parent\"><img src=\"https://colab.research.google.com/assets/colab-badge.svg\" alt=\"Open In Colab\"/></a>"
      ]
    },
    {
      "cell_type": "code",
      "execution_count": 4,
      "metadata": {
        "colab": {
          "base_uri": "https://localhost:8080/"
        },
        "id": "hv75X5YoVHTB",
        "outputId": "d1ed16a7-c2b9-4cf7-897c-69a249c5f7c0"
      },
      "outputs": [
        {
          "output_type": "stream",
          "name": "stdout",
          "text": [
            "type a sentence : What's up man?\n",
            "{' ': 2, \"'\": 1, '?': 1, 'a': 2, 'h': 1, 'm': 1, 'n': 1, 'p': 1, 's': 1, 't': 1, 'u': 1, 'w': 1}\n"
          ]
        }
      ],
      "source": [
        "sentence = input(\"type a sentence : \")\n",
        "\n",
        "Output={}\n",
        "s = sorted(list((sentence.lower())))\n",
        "\n",
        "for letter in s:\n",
        "  Output.update({letter : s.count(letter)})\n",
        "\n",
        "print(Output)\n"
      ]
    },
    {
      "cell_type": "code",
      "source": [
        "sentence = input(\"sentence :\")\n",
        "liste1 = []\n",
        "liste2 = []\n",
        "for ch in sentence:  \n",
        "    liste1.append(ch)\n",
        "    valu = sentence.count(ch)\n",
        "    liste2.append(valu)\n",
        "\n",
        "sonuc = set(list(zip(liste1,liste2)))\n",
        "print(dict(sonuc))\n"
      ],
      "metadata": {
        "colab": {
          "base_uri": "https://localhost:8080/"
        },
        "id": "4tsgNuA4VsmG",
        "outputId": "53f3351a-edca-48e6-b0bd-78f350173a99"
      },
      "execution_count": 6,
      "outputs": [
        {
          "output_type": "stream",
          "name": "stdout",
          "text": [
            "sentence :What's up mam?\n",
            "{'s': 1, 'a': 2, 'h': 1, 'p': 1, \"'\": 1, ' ': 2, 't': 1, 'u': 1, 'm': 2, '?': 1, 'W': 1}\n"
          ]
        }
      ]
    },
    {
      "cell_type": "code",
      "source": [
        "empty_dict = {}\n",
        "\n",
        "text = input('Enter a text: ')\n",
        "\n",
        "for i in text:\n",
        "  empty_dict.update({i : text.count(i)})\n",
        "\n",
        "print(empty_dict)\n"
      ],
      "metadata": {
        "colab": {
          "base_uri": "https://localhost:8080/"
        },
        "id": "WV5j6cHIWEo3",
        "outputId": "3395edd3-4256-4747-9b78-3c27092832d9"
      },
      "execution_count": 7,
      "outputs": [
        {
          "output_type": "stream",
          "name": "stdout",
          "text": [
            "Enter a text: What's up mam?\n",
            "{'W': 1, 'h': 1, 'a': 2, 't': 1, \"'\": 1, 's': 1, ' ': 2, 'u': 1, 'p': 1, 'm': 2, '?': 1}\n"
          ]
        }
      ]
    },
    {
      "cell_type": "code",
      "source": [
        "sentence = input(\"Enter a sentence :\")\n",
        "dict2 = {}\n",
        "for i in sentence :\n",
        "    if i in dict2 :\n",
        "        continue\n",
        "    else :\n",
        "        dict2[i] = sentence.count(i)\n",
        "print(dict2)"
      ],
      "metadata": {
        "colab": {
          "base_uri": "https://localhost:8080/"
        },
        "id": "BagOHmT-WEsP",
        "outputId": "bbbed578-8d2b-4423-86c9-c96871f90023"
      },
      "execution_count": 8,
      "outputs": [
        {
          "output_type": "stream",
          "name": "stdout",
          "text": [
            "Enter a sentence :What's up mam?\n",
            "{'W': 1, 'h': 1, 'a': 2, 't': 1, \"'\": 1, 's': 1, ' ': 2, 'u': 1, 'p': 1, 'm': 2, '?': 1}\n"
          ]
        }
      ]
    },
    {
      "cell_type": "code",
      "source": [
        "girdi = input(\"Gönder Cümleyi.:\")\n",
        "cikti ={}\n",
        "for i in set(girdi):\n",
        "    cikti[i] = girdi.count(i)\n",
        "print(cikti)"
      ],
      "metadata": {
        "colab": {
          "base_uri": "https://localhost:8080/"
        },
        "id": "F7lR1L6OWEuh",
        "outputId": "18d73be6-6330-4aec-daa0-19ad5483196a"
      },
      "execution_count": 9,
      "outputs": [
        {
          "output_type": "stream",
          "name": "stdout",
          "text": [
            "Gönder Cümleyi.:What's up mam?\n",
            "{'s': 1, 't': 1, 'h': 1, 'p': 1, 'a': 2, 'W': 1, \"'\": 1, '?': 1, 'u': 1, 'm': 2, ' ': 2}\n"
          ]
        }
      ]
    },
    {
      "cell_type": "code",
      "source": [
        ""
      ],
      "metadata": {
        "id": "PFHakOzGWkBY"
      },
      "execution_count": null,
      "outputs": []
    },
    {
      "cell_type": "code",
      "source": [
        ""
      ],
      "metadata": {
        "id": "YjxdqhviWkKd"
      },
      "execution_count": null,
      "outputs": []
    }
  ]
}