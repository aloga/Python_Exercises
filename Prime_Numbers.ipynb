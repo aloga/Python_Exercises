{
  "nbformat": 4,
  "nbformat_minor": 0,
  "metadata": {
    "colab": {
      "name": "Untitled43.ipynb",
      "provenance": [],
      "authorship_tag": "ABX9TyMa7lRyqg6mR6SWYA6Oq60G",
      "include_colab_link": true
    },
    "kernelspec": {
      "name": "python3",
      "display_name": "Python 3"
    },
    "language_info": {
      "name": "python"
    }
  },
  "cells": [
    {
      "cell_type": "markdown",
      "metadata": {
        "id": "view-in-github",
        "colab_type": "text"
      },
      "source": [
        "<a href=\"https://colab.research.google.com/github/aloga/Python_Exercises/blob/main/Prime_Numbers.ipynb\" target=\"_parent\"><img src=\"https://colab.research.google.com/assets/colab-badge.svg\" alt=\"Open In Colab\"/></a>"
      ]
    },
    {
      "cell_type": "code",
      "execution_count": 1,
      "metadata": {
        "colab": {
          "base_uri": "https://localhost:8080/"
        },
        "id": "aAgn40jqR0Jy",
        "outputId": "60c9fc7a-2096-4dca-d622-be7c271832e5"
      },
      "outputs": [
        {
          "output_type": "stream",
          "name": "stdout",
          "text": [
            "[2, 3, 5, 7, 11, 13, 17, 19, 23, 29, 31, 37, 41, 43, 47, 53, 59, 61, 67, 71, 73, 79, 83, 89, 97]\n"
          ]
        }
      ],
      "source": [
        "n= 100\n",
        "a=list(range(2,n+1))\n",
        "for i in list(range(2,n+1)):\n",
        "  for ii in range(2,i):\n",
        "    if i%ii==0:\n",
        "      a.remove(i)\n",
        "      break\n",
        "\n",
        "print(a)\n"
      ]
    },
    {
      "cell_type": "code",
      "source": [
        "n= 100\n",
        "a=list(range(2,n+1))\n",
        "for i in a.copy():\n",
        "  for ii in range(2,i):\n",
        "    if i%ii==0:\n",
        "      a.remove(i)\n",
        "      break\n",
        "\n",
        "print(a)"
      ],
      "metadata": {
        "colab": {
          "base_uri": "https://localhost:8080/"
        },
        "id": "NeXF2zKWR0p0",
        "outputId": "36545cce-01fb-4685-ac70-eda8878cf47d"
      },
      "execution_count": 2,
      "outputs": [
        {
          "output_type": "stream",
          "name": "stdout",
          "text": [
            "[2, 3, 5, 7, 11, 13, 17, 19, 23, 29, 31, 37, 41, 43, 47, 53, 59, 61, 67, 71, 73, 79, 83, 89, 97]\n"
          ]
        }
      ]
    },
    {
      "cell_type": "code",
      "source": [
        "n = 100 # int(input(\"Please enter a limit number\"))\n",
        "prime = []\n",
        "non_prime = []\n",
        "\n",
        "for i in range(2, n) :\n",
        "    for ii in range(2, i) :\n",
        "        if i % ii == 0 or i % 5 == 0 or i % 3 == 0 :\n",
        "            non_prime.append(i)\n",
        "            break\n",
        "        else :\n",
        "            prime.append(i)\n",
        "            break\n",
        "print(prime)\n"
      ],
      "metadata": {
        "colab": {
          "base_uri": "https://localhost:8080/"
        },
        "id": "pxieOTUqR0st",
        "outputId": "a729c010-8b2c-4fa5-ad40-b7194e9a2418"
      },
      "execution_count": 5,
      "outputs": [
        {
          "output_type": "stream",
          "name": "stdout",
          "text": [
            "[7, 11, 13, 17, 19, 23, 29, 31, 37, 41, 43, 47, 49, 53, 59, 61, 67, 71, 73, 77, 79, 83, 89, 91, 97]\n"
          ]
        }
      ]
    },
    {
      "cell_type": "code",
      "source": [
        "sayı = int(input(\"sayı nedir :\"))\n",
        "liste_1 = [2]\n",
        "sayac = 3\n",
        "while sayac < sayı:\n",
        "    number = True  \n",
        "    for x in range(2,sayac):      \n",
        "        if sayac % x == 0:\n",
        "            number = False\n",
        "            break            \n",
        "    if number == True:            \n",
        "        liste_1.append(sayac)\n",
        "    sayac += 1            \n",
        "print(liste_1)\n"
      ],
      "metadata": {
        "colab": {
          "base_uri": "https://localhost:8080/"
        },
        "id": "sA2XL8cDR0v7",
        "outputId": "634d572a-350a-45f8-cba7-451fe1a6bb71"
      },
      "execution_count": 6,
      "outputs": [
        {
          "output_type": "stream",
          "name": "stdout",
          "text": [
            "sayı nedir :100\n",
            "[2, 3, 5, 7, 11, 13, 17, 19, 23, 29, 31, 37, 41, 43, 47, 53, 59, 61, 67, 71, 73, 79, 83, 89, 97]\n"
          ]
        }
      ]
    },
    {
      "cell_type": "code",
      "source": [
        "n=int(input('Enter a number: '))\n",
        "  \n",
        "for i in range(1, n + 1):  \n",
        "   if i > 1:  \n",
        "       for x in range(2,i):  \n",
        "           if (i % x) == 0:  \n",
        "               break  \n",
        "       else:  \n",
        "           print(i, end = \" \")"
      ],
      "metadata": {
        "colab": {
          "base_uri": "https://localhost:8080/"
        },
        "id": "2NUhjCWmTGsE",
        "outputId": "8f68af80-1400-43ff-9c1e-2a48e9eaf7e6"
      },
      "execution_count": 7,
      "outputs": [
        {
          "output_type": "stream",
          "name": "stdout",
          "text": [
            "Enter a number: 100\n",
            "2 3 5 7 11 13 17 19 23 29 31 37 41 43 47 53 59 61 67 71 73 79 83 89 97 "
          ]
        }
      ]
    },
    {
      "cell_type": "code",
      "source": [
        "n = int(input(\"Enter a number :\"))\n",
        "prime_list = []\n",
        "a = 0\n",
        "for i in range(2, n) :\n",
        "    for j in range(2, i) :\n",
        "        if i % j == 0 :\n",
        "            a += 1\n",
        "        else :\n",
        "            a\n",
        "    if a == 0 :\n",
        "        prime_list.append(i)\n",
        "    a = 0    \n",
        "print(prime_list)"
      ],
      "metadata": {
        "colab": {
          "base_uri": "https://localhost:8080/"
        },
        "id": "IVeb9rzOTGvu",
        "outputId": "21118999-8548-4217-eab7-83a17f810ccf"
      },
      "execution_count": 8,
      "outputs": [
        {
          "output_type": "stream",
          "name": "stdout",
          "text": [
            "Enter a number :100\n",
            "[2, 3, 5, 7, 11, 13, 17, 19, 23, 29, 31, 37, 41, 43, 47, 53, 59, 61, 67, 71, 73, 79, 83, 89, 97]\n"
          ]
        }
      ]
    },
    {
      "cell_type": "code",
      "source": [
        "n = 100\n",
        "prime_list = []\n",
        "a = 0\n",
        "for i in range(2, n) :\n",
        "    for j in range(2, i) :\n",
        "        if i % j == 0 :\n",
        "            a += 1\n",
        "        else :\n",
        "            a\n",
        "    if a == 0 :\n",
        "        prime_list.append(i)\n",
        "    a = 0    \n",
        "print(prime_list)"
      ],
      "metadata": {
        "colab": {
          "base_uri": "https://localhost:8080/"
        },
        "id": "qqvf3dmoUUD2",
        "outputId": "844abe48-ea5f-4efb-9146-b1e81651c359"
      },
      "execution_count": 13,
      "outputs": [
        {
          "output_type": "stream",
          "name": "stdout",
          "text": [
            "[2, 3, 5, 7, 11, 13, 17, 19, 23, 29, 31, 37, 41, 43, 47, 53, 59, 61, 67, 71, 73, 79, 83, 89, 97]\n"
          ]
        }
      ]
    },
    {
      "cell_type": "code",
      "source": [
        "n = int(input(\"enter limit number:\"))\n",
        "prime_numbers = []\n",
        "for i in range(1,n+1):\n",
        "  list = []\n",
        "  for j in range(1,i+1):\n",
        "    list.append(i%j)\n",
        "  if list.count(0) == 2:\n",
        "    prime_numbers.append(i)\n",
        "print(prime_numbers)"
      ],
      "metadata": {
        "colab": {
          "base_uri": "https://localhost:8080/"
        },
        "id": "hUIpI5lAUjYN",
        "outputId": "6c9eebaf-3a78-4d0f-88d2-909c57bbaad8"
      },
      "execution_count": 14,
      "outputs": [
        {
          "output_type": "stream",
          "name": "stdout",
          "text": [
            "enter limit number:100\n",
            "[2, 3, 5, 7, 11, 13, 17, 19, 23, 29, 31, 37, 41, 43, 47, 53, 59, 61, 67, 71, 73, 79, 83, 89, 97]\n"
          ]
        }
      ]
    }
  ]
}