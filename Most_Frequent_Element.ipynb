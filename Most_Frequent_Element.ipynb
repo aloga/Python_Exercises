{
  "nbformat": 4,
  "nbformat_minor": 0,
  "metadata": {
    "colab": {
      "name": "Untitled32.ipynb",
      "provenance": [],
      "authorship_tag": "ABX9TyNu4yyaFKlK/jdElJOGTv5M",
      "include_colab_link": true
    },
    "kernelspec": {
      "name": "python3",
      "display_name": "Python 3"
    },
    "language_info": {
      "name": "python"
    }
  },
  "cells": [
    {
      "cell_type": "markdown",
      "metadata": {
        "id": "view-in-github",
        "colab_type": "text"
      },
      "source": [
        "<a href=\"https://colab.research.google.com/github/aloga/Python_Exercises/blob/main/Most_Frequent_Element.ipynb\" target=\"_parent\"><img src=\"https://colab.research.google.com/assets/colab-badge.svg\" alt=\"Open In Colab\"/></a>"
      ]
    },
    {
      "cell_type": "code",
      "execution_count": null,
      "metadata": {
        "colab": {
          "base_uri": "https://localhost:8080/"
        },
        "id": "O9m5SwhobXyI",
        "outputId": "4b2149aa-04f5-44da-c5a0-c0206a6ec26f"
      },
      "outputs": [
        {
          "output_type": "stream",
          "name": "stdout",
          "text": [
            "the most frequent number is 3 and it was 4 times repeated\n"
          ]
        }
      ],
      "source": [
        "from collections import Counter\n",
        "numbers = [1, 3, 7, 4, 3, 0, 3, 6, 3]\n",
        "\n",
        "a = Counter(numbers)\n",
        "print(f\"the most frequent number is {a.most_common(1)[0][0]} and it was {a.most_common(1)[0][1]} times repeated\")"
      ]
    },
    {
      "cell_type": "code",
      "source": [
        "from collections import Counter\n",
        "numbers = [1, 3, 7, 4, 3, 0, 3, 6, 3]\n",
        "\n",
        "a = Counter(numbers)\n",
        "print(a.most_common(1)[0][0])\n",
        "print(a.most_common(1)[0][1])\n",
        "print(\"the most frequent number is {0} and it was {1} times repeated\".format(a.most_common(1)[0][0],a.most_common(1)[0][1]))"
      ],
      "metadata": {
        "colab": {
          "base_uri": "https://localhost:8080/"
        },
        "id": "C09js63kbYb1",
        "outputId": "0781acc5-9284-43be-9082-8cfa234eea0e"
      },
      "execution_count": null,
      "outputs": [
        {
          "output_type": "stream",
          "name": "stdout",
          "text": [
            "3\n",
            "4\n",
            "the most frequent number is 3 and it was 4 times repeated\n"
          ]
        }
      ]
    },
    {
      "cell_type": "code",
      "source": [
        "numbers = [1, 3, 7, 4, 3, 0, 3, 6, 3]\n",
        "x = numbers.count(3)\n",
        "y = \"the most frequent number is {} and it was {} times repeated\".format(3, x)\n",
        "print(y)\n"
      ],
      "metadata": {
        "colab": {
          "base_uri": "https://localhost:8080/"
        },
        "id": "pizIZLeKbYfE",
        "outputId": "846d9096-c7e1-4ec1-a79a-fa2de6c03910"
      },
      "execution_count": null,
      "outputs": [
        {
          "output_type": "stream",
          "name": "stdout",
          "text": [
            "the most frequent number is 3 and it was 4 times repeated\n"
          ]
        }
      ]
    },
    {
      "cell_type": "code",
      "source": [
        "numbers = [1, 3, 7, 4, 3, 0, 3, 6, 3]\n",
        "\n",
        "a = sorted(numbers, key=numbers.count)\n",
        "b = a.count(a[-1])\n",
        "c = a[-1]\n",
        "\n",
        "print(\"the most frequent number is {} and it was {} times repeated\".format(c, b))"
      ],
      "metadata": {
        "colab": {
          "base_uri": "https://localhost:8080/"
        },
        "id": "SCvRzmJLbYhy",
        "outputId": "c39b871e-f06d-481e-945a-50a2cd532d6a"
      },
      "execution_count": null,
      "outputs": [
        {
          "output_type": "stream",
          "name": "stdout",
          "text": [
            "the most frequent number is 3 and it was 4 times repeated\n"
          ]
        }
      ]
    },
    {
      "cell_type": "code",
      "source": [
        "numbers = [4, 3, 7, 4, 4, 0, 1, 6, 3, 5, 4, 1, 4]\n",
        "a = sorted(numbers, key=numbers.count)\n",
        "b = a.count(a[-1])\n",
        "print(f\"The most frequent number is {a[-1]} and it was {b} times repeated\")\n"
      ],
      "metadata": {
        "colab": {
          "base_uri": "https://localhost:8080/"
        },
        "id": "FkiTJ0TOdRq8",
        "outputId": "87d24e1c-1d45-4207-a7ee-e2b4ae035e8c"
      },
      "execution_count": null,
      "outputs": [
        {
          "output_type": "stream",
          "name": "stdout",
          "text": [
            "The most frequent number is 4 and it was 5 times repeated\n"
          ]
        }
      ]
    },
    {
      "cell_type": "code",
      "source": [
        "numbers = [1, 3, 7, 4, 3, 0, 3, 6, 3]\n",
        "most_freq = max(numbers, key = numbers.count)\n",
        "times = numbers.count(max(numbers, key = numbers.count))\n",
        "print(f\"the most frequent number is {most_freq} and it was {times} times repeated\")"
      ],
      "metadata": {
        "colab": {
          "base_uri": "https://localhost:8080/"
        },
        "id": "R6gaUZn7dRuA",
        "outputId": "40e2a340-f7f6-4219-de31-eef5feb936cb"
      },
      "execution_count": null,
      "outputs": [
        {
          "output_type": "stream",
          "name": "stdout",
          "text": [
            "the most frequent number is 3 and it was 4 times repeated\n"
          ]
        }
      ]
    },
    {
      "cell_type": "code",
      "source": [
        "from collections import Counter\n",
        "numbers = [1, 3, 7, 4, 3, 0, 3, 6, 3]\n",
        "mc = Counter(numbers).most_common(1)\n",
        "print(\"the most frequent number is {} and it was {} times repeated\".format(mc[0][0], mc[0][1]))"
      ],
      "metadata": {
        "colab": {
          "base_uri": "https://localhost:8080/"
        },
        "id": "5v3aYNYneGCY",
        "outputId": "ab9f35e6-4f83-4112-9017-72733c166771"
      },
      "execution_count": null,
      "outputs": [
        {
          "output_type": "stream",
          "name": "stdout",
          "text": [
            "the most frequent number is 3 and it was 4 times repeated\n"
          ]
        }
      ]
    },
    {
      "cell_type": "code",
      "source": [
        "numbers = [1, 3, 7, 4, 3, 0, 3, 6, 3]\n",
        "numbers.sort()\n",
        "print(numbers)\n",
        "numbers.count(3)"
      ],
      "metadata": {
        "colab": {
          "base_uri": "https://localhost:8080/"
        },
        "id": "_wy3WHl6eGE6",
        "outputId": "7740e3ad-5c46-4b0d-ec2b-aef019b53568"
      },
      "execution_count": null,
      "outputs": [
        {
          "output_type": "stream",
          "name": "stdout",
          "text": [
            "[0, 1, 3, 3, 3, 3, 4, 6, 7]\n"
          ]
        },
        {
          "output_type": "execute_result",
          "data": {
            "text/plain": [
              "4"
            ]
          },
          "metadata": {},
          "execution_count": 9
        }
      ]
    },
    {
      "cell_type": "code",
      "source": [
        ""
      ],
      "metadata": {
        "id": "SoKIVPc0eGHS"
      },
      "execution_count": null,
      "outputs": []
    }
  ]
}