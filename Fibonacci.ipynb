{
  "nbformat": 4,
  "nbformat_minor": 0,
  "metadata": {
    "colab": {
      "name": "Untitled42.ipynb",
      "provenance": [],
      "authorship_tag": "ABX9TyMB5KOX0rphoXt2d040k60j",
      "include_colab_link": true
    },
    "kernelspec": {
      "name": "python3",
      "display_name": "Python 3"
    },
    "language_info": {
      "name": "python"
    }
  },
  "cells": [
    {
      "cell_type": "markdown",
      "metadata": {
        "id": "view-in-github",
        "colab_type": "text"
      },
      "source": [
        "<a href=\"https://colab.research.google.com/github/aloga/Python_Exercises/blob/main/Fibonacci.ipynb\" target=\"_parent\"><img src=\"https://colab.research.google.com/assets/colab-badge.svg\" alt=\"Open In Colab\"/></a>"
      ]
    },
    {
      "cell_type": "code",
      "execution_count": 3,
      "metadata": {
        "colab": {
          "base_uri": "https://localhost:8080/"
        },
        "id": "7F8kpTEAOyxF",
        "outputId": "88bf917d-c46d-478a-8a10-b725f65300d3"
      },
      "outputs": [
        {
          "output_type": "stream",
          "name": "stdout",
          "text": [
            "[1, 1, 2, 3, 5, 8, 13, 21, 34, 55]\n"
          ]
        }
      ],
      "source": [
        "number = 55\n",
        "fibonacci=[1,1]\n",
        "\n",
        "for i in range(2,number+1):\n",
        "  if i == fibonacci[-2]+fibonacci[-1]:\n",
        "    fibonacci.append(i)\n",
        "print(fibonacci)"
      ]
    },
    {
      "cell_type": "code",
      "source": [
        "fibonacci = []\n",
        "x = 1\n",
        "y = 1\n",
        "\n",
        "for i in range(1, 11) :\n",
        "    fibonacci.append(x)\n",
        "    x , y = y, x + y\n",
        "\n",
        "print(fibonacci)\n"
      ],
      "metadata": {
        "colab": {
          "base_uri": "https://localhost:8080/"
        },
        "id": "P5L0bvnTPEc8",
        "outputId": "a57217ef-ef32-4992-a3ff-9e37c768bc2f"
      },
      "execution_count": 5,
      "outputs": [
        {
          "output_type": "stream",
          "name": "stdout",
          "text": [
            "[1, 1, 2, 3, 5, 8, 13, 21, 34, 55]\n"
          ]
        }
      ]
    },
    {
      "cell_type": "code",
      "source": [
        "liste = []\n",
        "a, b = 0, 1\n",
        "while b <= 55:\n",
        "    a,b = b, a+b\n",
        "    liste.append(a)\n",
        "print(liste)"
      ],
      "metadata": {
        "colab": {
          "base_uri": "https://localhost:8080/"
        },
        "id": "2ew-IKBVPEiZ",
        "outputId": "709d934f-b344-44f2-da5d-f5e8fecef9e8"
      },
      "execution_count": 6,
      "outputs": [
        {
          "output_type": "stream",
          "name": "stdout",
          "text": [
            "[1, 1, 2, 3, 5, 8, 13, 21, 34, 55]\n"
          ]
        }
      ]
    },
    {
      "cell_type": "code",
      "source": [
        "n = 55\n",
        "x = 0\n",
        "y = 1\n",
        "fib = []\n",
        "while x < n:\n",
        "    x += y\n",
        "    y = x - y\n",
        "    fib.append(x)\n",
        "print(fib)"
      ],
      "metadata": {
        "colab": {
          "base_uri": "https://localhost:8080/"
        },
        "id": "blBVbic0QNJx",
        "outputId": "e62c8a05-dada-4e8a-d6da-aabbce2acadf"
      },
      "execution_count": 8,
      "outputs": [
        {
          "output_type": "stream",
          "name": "stdout",
          "text": [
            "[1, 1, 2, 3, 5, 8, 13, 21, 34, 55]\n"
          ]
        }
      ]
    },
    {
      "cell_type": "code",
      "source": [
        "fibonacci = []\n",
        "for i in range(1,11):\n",
        "  if i == 1:\n",
        "    n = 1\n",
        "  elif i == 2:\n",
        "    n = 1\n",
        "  else :\n",
        "    n = (fibonacci[i-2]+fibonacci[i-3])\n",
        "  fibonacci.append(n)\n",
        "print(fibonacci)"
      ],
      "metadata": {
        "colab": {
          "base_uri": "https://localhost:8080/"
        },
        "id": "fV7uR68OQ8wz",
        "outputId": "baf92b00-7b82-4c93-f5a7-d52a8574fa80"
      },
      "execution_count": 10,
      "outputs": [
        {
          "output_type": "stream",
          "name": "stdout",
          "text": [
            "[1, 1, 2, 3, 5, 8, 13, 21, 34, 55]\n"
          ]
        }
      ]
    },
    {
      "cell_type": "code",
      "source": [
        "f = []\n",
        "x = 1\n",
        "y = 1\n",
        "for i in range(1, 11) :\n",
        "  f.append(x)\n",
        "  x , y = y, x + y\n",
        "print(f)\n"
      ],
      "metadata": {
        "colab": {
          "base_uri": "https://localhost:8080/"
        },
        "id": "bEEXY55XRFrM",
        "outputId": "e41b21d8-483e-45b6-aac9-0ea7f47aebb6"
      },
      "execution_count": 11,
      "outputs": [
        {
          "output_type": "stream",
          "name": "stdout",
          "text": [
            "[1, 1, 2, 3, 5, 8, 13, 21, 34, 55]\n"
          ]
        }
      ]
    }
  ]
}