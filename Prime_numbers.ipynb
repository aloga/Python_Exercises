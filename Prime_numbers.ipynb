{
  "nbformat": 4,
  "nbformat_minor": 0,
  "metadata": {
    "colab": {
      "name": "Untitled41.ipynb",
      "provenance": [],
      "authorship_tag": "ABX9TyOAy1nUVQlR+QdbArsxuVaf",
      "include_colab_link": true
    },
    "kernelspec": {
      "name": "python3",
      "display_name": "Python 3"
    },
    "language_info": {
      "name": "python"
    }
  },
  "cells": [
    {
      "cell_type": "markdown",
      "metadata": {
        "id": "view-in-github",
        "colab_type": "text"
      },
      "source": [
        "<a href=\"https://colab.research.google.com/github/aloga/Python_Exercises/blob/main/Prime_numbers.ipynb\" target=\"_parent\"><img src=\"https://colab.research.google.com/assets/colab-badge.svg\" alt=\"Open In Colab\"/></a>"
      ]
    },
    {
      "cell_type": "code",
      "source": [
        "number = int(input(\"Enter a number :\"))\n",
        "prime_num = \"is\"\n",
        "for i in range(2,number) : \n",
        "    if number % i == 0 :\n",
        "        prime_num = \"is not\"\n",
        "    else :\n",
        "        prime_num\n",
        "print(f\"{number} {prime_num} a prime number!\")"
      ],
      "metadata": {
        "colab": {
          "base_uri": "https://localhost:8080/"
        },
        "id": "Qb0NFe0BMogo",
        "outputId": "8c70a21a-79cc-410a-fac9-3136d2ab4220"
      },
      "execution_count": null,
      "outputs": [
        {
          "output_type": "stream",
          "name": "stdout",
          "text": [
            "Enter a number :10\n",
            "10 is not a prime number!\n"
          ]
        }
      ]
    },
    {
      "cell_type": "code",
      "source": [
        "n = int(input(\"enter limit number:\"))\n",
        "prime_numbers = []\n",
        "for i in range(1,n+1):\n",
        "  list = []\n",
        "  for j in range(1,i+1):\n",
        "    list.append(i%j)\n",
        "  if list.count(0) == 2:\n",
        "    prime_numbers.append(i)\n",
        "if n in prime_numbers:\n",
        "  print(f\"{n} is a prime number\")\n",
        "else:\n",
        "  print(f\"{n} is not a prime number\")\n"
      ],
      "metadata": {
        "colab": {
          "base_uri": "https://localhost:8080/"
        },
        "id": "8B9cfs_8N4x6",
        "outputId": "726091c2-0d43-4c5a-bcb3-768ccf174a6c"
      },
      "execution_count": null,
      "outputs": [
        {
          "output_type": "stream",
          "name": "stdout",
          "text": [
            "enter limit number:11\n",
            "11 is a prime number\n"
          ]
        }
      ]
    },
    {
      "cell_type": "code",
      "source": [
        ""
      ],
      "metadata": {
        "id": "xLYSepZoN5gp"
      },
      "execution_count": null,
      "outputs": []
    }
  ]
}