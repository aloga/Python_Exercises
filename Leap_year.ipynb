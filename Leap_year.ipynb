{
  "nbformat": 4,
  "nbformat_minor": 0,
  "metadata": {
    "colab": {
      "name": "Leap_year.ipynb",
      "provenance": [],
      "collapsed_sections": [],
      "authorship_tag": "ABX9TyMP+GRqpocKDBswqV9CcQQa"
    },
    "kernelspec": {
      "name": "python3",
      "display_name": "Python 3"
    },
    "language_info": {
      "name": "python"
    }
  },
  "cells": [
    {
      "cell_type": "code",
      "execution_count": 6,
      "metadata": {
        "colab": {
          "base_uri": "https://localhost:8080/"
        },
        "id": "GKQ6Dt8394u7",
        "outputId": "dd53eb31-1929-4318-dfd0-82dabe5315fc"
      },
      "outputs": [
        {
          "output_type": "stream",
          "name": "stdout",
          "text": [
            "write a 4-digit year2100\n",
            "False\n"
          ]
        }
      ],
      "source": [
        "x = int(input(\"write a 4-digit year\"))\n",
        "\n",
        "k4 =   (x%4 == 0)\n",
        "k100 = (x%100 == 0)\n",
        "k400 = (x%400 == 0)\n",
        "# print(k4, k100, k400)\n",
        "print(k4 and k100 and k400)\n"
      ]
    },
    {
      "cell_type": "code",
      "source": [
        "x= int(input('enter 4 digit year'));\n",
        "\n",
        "mod4= (x%4==0);\n",
        "\n",
        "mod100= (x%100==0);\n",
        "\n",
        "\n",
        "mod400= (x%400==0);\n",
        "\n",
        "print(mod4,mod100,mod400);\n",
        "\n",
        "print(mod4 and mod100 and mod400)"
      ],
      "metadata": {
        "colab": {
          "base_uri": "https://localhost:8080/"
        },
        "id": "wbRQBxBq-BA9",
        "outputId": "78b9aaf0-3dba-4a81-fc50-2edb8e36cdd6"
      },
      "execution_count": 9,
      "outputs": [
        {
          "output_type": "stream",
          "name": "stdout",
          "text": [
            "enter 4 digit year1800\n",
            "True True False\n",
            "False\n"
          ]
        }
      ]
    },
    {
      "cell_type": "code",
      "source": [
        "a = int(input('yıl gir'))\n",
        "x = a % 4 == 0\n",
        "y = a % 100 != 0\n",
        "z = a % 400 == 0\n",
        "\n",
        "print(x and z or y)\n"
      ],
      "metadata": {
        "colab": {
          "base_uri": "https://localhost:8080/"
        },
        "id": "U2mcFwM3-BET",
        "outputId": "0b1105d0-2d45-46f1-eb68-bdd162b7be36"
      },
      "execution_count": 11,
      "outputs": [
        {
          "output_type": "stream",
          "name": "stdout",
          "text": [
            "yıl gir2400\n",
            "True\n"
          ]
        }
      ]
    },
    {
      "cell_type": "code",
      "source": [
        "number = int(input('enter number with four digits: '))\n",
        "a = (number % 4 == 0)\n",
        "b = (number % 400 == 0)\n",
        "c = (number % 100 != 0)\n",
        "sonuc = a and b or c\n",
        "print(f'{sonuc} ----True ise girdiğiniz sayı leap yıl; False ise girdiğiniz sayı leap yıl değildir'.format(sonuc))"
      ],
      "metadata": {
        "colab": {
          "base_uri": "https://localhost:8080/"
        },
        "id": "EfAjMc0A-BGr",
        "outputId": "9470feb3-a1b7-40c9-bf05-6afea938b6ac"
      },
      "execution_count": 14,
      "outputs": [
        {
          "output_type": "stream",
          "name": "stdout",
          "text": [
            "enter number with four digits: 1800\n",
            "False ----True ise girdiğiniz sayı leap yıl; False ise girdiğiniz sayı leap yıl değildir\n"
          ]
        }
      ]
    },
    {
      "cell_type": "code",
      "source": [
        "leap = int(input(\"Please enter 4 digit year : \"))\n",
        "leap % 4 == 0 and leap % 100 != 0 or leap % 400 == 0"
      ],
      "metadata": {
        "colab": {
          "base_uri": "https://localhost:8080/"
        },
        "id": "OBZUnC6y-BJX",
        "outputId": "022420d1-dfb4-48ce-85f3-779c1417e726"
      },
      "execution_count": 16,
      "outputs": [
        {
          "name": "stdout",
          "output_type": "stream",
          "text": [
            "Please enter 4 digit year : 2000\n"
          ]
        },
        {
          "output_type": "execute_result",
          "data": {
            "text/plain": [
              "True"
            ]
          },
          "metadata": {},
          "execution_count": 16
        }
      ]
    },
    {
      "cell_type": "code",
      "source": [
        "veri = int(input(\"Yılı giriniz.\"))\n",
        "\n",
        "dorde_bol = veri % 4\n",
        "\n",
        "yuze_bol = veri % 100\n",
        "\n",
        "dortyuze_bol = veri % 400\n",
        "\n",
        "print(not dorde_bol and not yuze_bol and not dortyuze_bol)"
      ],
      "metadata": {
        "colab": {
          "base_uri": "https://localhost:8080/"
        },
        "id": "ybWaxarOAKeD",
        "outputId": "bcbc9caa-cf9f-4aca-f189-068fcf34c3d3"
      },
      "execution_count": 18,
      "outputs": [
        {
          "output_type": "stream",
          "name": "stdout",
          "text": [
            "Yılı giriniz.1800\n",
            "False\n"
          ]
        }
      ]
    },
    {
      "cell_type": "code",
      "source": [
        "# Yıl 4'e tam bölünebilir olmalıdır; \n",
        "# Yıl 100'e eşit olarak bölünebiliyorsa, artık yıl değildir;\n",
        "# Yıl 400'e tam bölünür. O zaman artık yıldır.\n",
        "\n",
        "year = int(input(\"Lütfen bir yıl giriniz: \"))\n",
        "print((year % 4 == 0) and (year % 100 != 0) or (year % 400 == 0))"
      ],
      "metadata": {
        "colab": {
          "base_uri": "https://localhost:8080/"
        },
        "id": "y0xQocLCAKjL",
        "outputId": "4b63599a-6a6c-4aca-86c6-9c422dd25358"
      },
      "execution_count": 21,
      "outputs": [
        {
          "output_type": "stream",
          "name": "stdout",
          "text": [
            "Lütfen bir yıl giriniz: 2400\n",
            "True\n"
          ]
        }
      ]
    }
  ]
}