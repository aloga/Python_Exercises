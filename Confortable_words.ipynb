{
  "nbformat": 4,
  "nbformat_minor": 0,
  "metadata": {
    "colab": {
      "name": "Confortable_words.ipynb",
      "provenance": [],
      "authorship_tag": "ABX9TyNMbJIxNfRg6Pt0Pn1ui1/0",
      "include_colab_link": true
    },
    "kernelspec": {
      "name": "python3",
      "display_name": "Python 3"
    },
    "language_info": {
      "name": "python"
    }
  },
  "cells": [
    {
      "cell_type": "markdown",
      "metadata": {
        "id": "view-in-github",
        "colab_type": "text"
      },
      "source": [
        "<a href=\"https://colab.research.google.com/github/aloga/Python_Exercises/blob/main/Confortable_words.ipynb\" target=\"_parent\"><img src=\"https://colab.research.google.com/assets/colab-badge.svg\" alt=\"Open In Colab\"/></a>"
      ]
    },
    {
      "cell_type": "code",
      "execution_count": 2,
      "metadata": {
        "colab": {
          "base_uri": "https://localhost:8080/"
        },
        "id": "USb84Hrbhowk",
        "outputId": "dd1fb918-6067-4d7e-8965-f2c05e4e15b2"
      },
      "outputs": [
        {
          "output_type": "stream",
          "name": "stdout",
          "text": [
            "enter a wordtest\n",
            "False\n"
          ]
        }
      ],
      "source": [
        "word = input(\"enter a word\")\n",
        "word = set(word)\n",
        "left_hand = set(\"qwertasdfgzxcvb\")\n",
        "\n",
        "right_hand = set(\"yuıophjklnm\")\n",
        "\n",
        "if word & left_hand and word & right_hand:\n",
        "  print(\"True\")\n",
        "else:\n",
        "  print(\"False\")\n"
      ]
    },
    {
      "cell_type": "code",
      "source": [
        "A=(input('Enter Your Word:'))\n",
        "A=set(A.lower())\n",
        "Righthand=set('qwertasdfgzxcvb')\n",
        "Lefthand=set('yuıophjklnm')\n",
        "if A & Righthand and A & Lefthand:\n",
        "  print('True')\n",
        "else: \n",
        "  print('False')\n"
      ],
      "metadata": {
        "colab": {
          "base_uri": "https://localhost:8080/"
        },
        "id": "V6P423aghpbr",
        "outputId": "4d43cf70-508c-4126-cc06-bec6493c17e2"
      },
      "execution_count": 4,
      "outputs": [
        {
          "output_type": "stream",
          "name": "stdout",
          "text": [
            "Enter Your Word:sadds\n",
            "False\n"
          ]
        }
      ]
    },
    {
      "cell_type": "code",
      "source": [
        "word = set(input(\"Please input a word : \"))\n",
        "\n",
        "left_hand = set(\"qwertasdfgzxcvbQWERTASDFGZXCVB\")\n",
        "right_hand = set(\"yuıopğühjklşinmöçYUIOPĞÜHJKLŞİNMÖÇ\")\n",
        "\n",
        "print(bool(left_hand & word) and bool(right_hand & word))\n"
      ],
      "metadata": {
        "colab": {
          "base_uri": "https://localhost:8080/"
        },
        "id": "V0stswz0hpe4",
        "outputId": "72f89460-9886-4313-8c78-e8f4db939e49"
      },
      "execution_count": 6,
      "outputs": [
        {
          "output_type": "stream",
          "name": "stdout",
          "text": [
            "Please input a word : sadds\n",
            "False\n"
          ]
        }
      ]
    },
    {
      "cell_type": "code",
      "source": [
        "word = set(input(\" LÜTFEN KELİMEYİ GİRİNİZ : \"))\n",
        "\n",
        "left = set(\"qwertasdfgzxcvbQWERTASDFGZXCVB\")\n",
        "right = set(\"yuıopğühjklşinmöçYUIOPĞÜHJKLŞİNMÖÇ\")\n",
        "\n",
        "if word.difference(left) == set():          # FARKI BOŞ KÜME\n",
        "  print(\"<< False >> (uses only left-hand fingers)\")\n",
        "\n",
        "elif word.difference(right) == set():      # FARKI BOŞ KÜME\n",
        "  print(\"<< False >> (uses only right-hand fingers)\")\n",
        "\n",
        "else:\n",
        "  print(\"<< True >> (uses both hand fingers)\")\n",
        "\n"
      ],
      "metadata": {
        "colab": {
          "base_uri": "https://localhost:8080/"
        },
        "id": "7CHSls-_hphg",
        "outputId": "de6e8fd0-d133-40fc-ec60-389bc373c679"
      },
      "execution_count": 8,
      "outputs": [
        {
          "output_type": "stream",
          "name": "stdout",
          "text": [
            " LÜTFEN KELİMEYİ GİRİNİZ : sadces\n",
            "<< False >> (uses only left-hand fingers)\n"
          ]
        }
      ]
    },
    {
      "cell_type": "code",
      "source": [
        "word = input('Enter a word: ')\n",
        "word = set(word.casefold())\n",
        "\n",
        "lhand_letter={'q','a','z','w','s','x','e','d','c','r','f','v','t','g','b'}\n",
        "rhand_letter={'y','h','n','u','j','m','ı','k','ö','o','l','ç','p','ş','ğ','i','ü'}\n",
        "\n",
        "cndtn1 =len(word.intersection(lhand_letter)) \n",
        "cndtn2=len(word.intersection(rhand_letter))\n",
        "bool(cndtn1 and cndtn2)\n"
      ],
      "metadata": {
        "colab": {
          "base_uri": "https://localhost:8080/"
        },
        "id": "NJnOPkPohpj8",
        "outputId": "3d87e815-1a66-46f1-eb87-96f3f73f0af1"
      },
      "execution_count": 10,
      "outputs": [
        {
          "name": "stdout",
          "output_type": "stream",
          "text": [
            "Enter a word: deneme\n"
          ]
        },
        {
          "output_type": "execute_result",
          "data": {
            "text/plain": [
              "True"
            ]
          },
          "metadata": {},
          "execution_count": 10
        }
      ]
    },
    {
      "cell_type": "code",
      "source": [
        "a = set(input(\"Kelime giriniz : \"))\n",
        "left = set(\"qwertasdfgzxcvb\")\n",
        "right = set(\"yuıopğühjklşinmöç\")\n",
        "print((a & left) != a and (a & right) != a)"
      ],
      "metadata": {
        "colab": {
          "base_uri": "https://localhost:8080/"
        },
        "id": "MEcUfKvphpmZ",
        "outputId": "b99937f0-55df-4515-d680-2e82924358e8"
      },
      "execution_count": 12,
      "outputs": [
        {
          "output_type": "stream",
          "name": "stdout",
          "text": [
            "Kelime giriniz : test\n",
            "False\n"
          ]
        }
      ]
    },
    {
      "cell_type": "code",
      "source": [
        "sol_el = {1,2,3,4,5,\"q\",\"w\",\"e\",\"r\",\"t\",\"a\",\"s\",\"d\",\"f\",\"g\",\"z\",\"x\",\"c\",\"v\",\"b\",\n",
        "'Q', 'W', 'E', 'R', 'T', 'A', 'S', 'D', 'F', 'G', 'Z', 'X', 'C', 'V', 'B'}\n",
        "sag_el = {6,7,8,9,0,\"*\",\"y\",\"u\",\"ı\",\"o\",\"p\",\"ğ\",\"ü\",\"h\",\"j\",\"k\",\"l\",\"ş\",\"i\",\"n\",\"m\",\"ö\",\"ç\",\":\",\n",
        "'Y', 'U', 'I', 'O', 'P', 'Ğ', 'Ü', 'H', 'J', 'K', 'L', 'Ş', 'I', 'N', 'M', 'Ö', 'Ç'}\n",
        "kelime_gir = set(input(\"Kelime giriniz.\"))\n",
        "print(bool(sol_el & kelime_gir) and bool(sag_el & kelime_gir))"
      ],
      "metadata": {
        "colab": {
          "base_uri": "https://localhost:8080/"
        },
        "id": "3WtDFpKohpop",
        "outputId": "fa01689f-04e9-4677-c2ea-13742b8c2815"
      },
      "execution_count": 14,
      "outputs": [
        {
          "output_type": "stream",
          "name": "stdout",
          "text": [
            "Kelime giriniz.goodwork2\n",
            "True\n"
          ]
        }
      ]
    },
    {
      "cell_type": "code",
      "source": [
        "word = set(input(\"bir kelime yazınız: \"))\n",
        "\n",
        "print(bool(word & set(left)) and bool(word & set(right)))"
      ],
      "metadata": {
        "colab": {
          "base_uri": "https://localhost:8080/"
        },
        "id": "cDEwN2WWhpqV",
        "outputId": "943ecd03-fd76-42a7-8d92-7a6c91a36869"
      },
      "execution_count": 16,
      "outputs": [
        {
          "output_type": "stream",
          "name": "stdout",
          "text": [
            "bir kelime yazınız: sadec\n",
            "False\n"
          ]
        }
      ]
    },
    {
      "cell_type": "code",
      "source": [
        "eft_hand = set('qwertasdfgzxcvb')\n",
        "\n",
        "right_hand = set('yuiophjklnm')\n",
        "\n",
        "word = input(\"Write a Word: \")\n",
        "\n",
        "word = set(word)\n",
        "\n",
        "a = left_hand.intersection(word)\n",
        "\n",
        "b = right_hand.intersection(word)\n",
        "\n",
        "if (a or b) == word:\n",
        "\n",
        "  print(\"This is not comfortable a word\")\n",
        "\n",
        "else:\n",
        "\n",
        "  print(\"This is a comfortable word\")"
      ],
      "metadata": {
        "colab": {
          "base_uri": "https://localhost:8080/"
        },
        "id": "E3HV42lFhpsm",
        "outputId": "d3b6134a-62e9-40b3-931a-2fe7e257fc7d"
      },
      "execution_count": 18,
      "outputs": [
        {
          "output_type": "stream",
          "name": "stdout",
          "text": [
            "Write a Word: sadece\n",
            "This is not comfortable a word\n"
          ]
        }
      ]
    },
    {
      "cell_type": "code",
      "source": [
        ""
      ],
      "metadata": {
        "id": "y5LY6JFvhpw5"
      },
      "execution_count": null,
      "outputs": []
    },
    {
      "cell_type": "code",
      "source": [
        ""
      ],
      "metadata": {
        "id": "8VxmHjpnhp0O"
      },
      "execution_count": null,
      "outputs": []
    }
  ]
}