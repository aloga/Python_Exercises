{
  "nbformat": 4,
  "nbformat_minor": 0,
  "metadata": {
    "colab": {
      "name": "Untitled45.ipynb",
      "provenance": [],
      "authorship_tag": "ABX9TyMcUqGHBRTMi1kmLCsmUXQu",
      "include_colab_link": true
    },
    "kernelspec": {
      "name": "python3",
      "display_name": "Python 3"
    },
    "language_info": {
      "name": "python"
    }
  },
  "cells": [
    {
      "cell_type": "markdown",
      "metadata": {
        "id": "view-in-github",
        "colab_type": "text"
      },
      "source": [
        "<a href=\"https://colab.research.google.com/github/aloga/Python_Exercises/blob/main/Fizzy_Buzzy.ipynb\" target=\"_parent\"><img src=\"https://colab.research.google.com/assets/colab-badge.svg\" alt=\"Open In Colab\"/></a>"
      ]
    },
    {
      "cell_type": "code",
      "execution_count": null,
      "metadata": {
        "id": "z0JjzBj5S69b"
      },
      "outputs": [],
      "source": [
        "x =[print(\"FizzBuzz\") if i%3==0 and i%5==0 else print(\"Buzz\") if i%5==0 else print(\"Fizz\") if i%3==0 else print(i) for i in range(1,101) ]\n"
      ]
    },
    {
      "cell_type": "code",
      "source": [
        "n= 100\n",
        "a=list(range(1,n+1))\n",
        "for i in a:\n",
        "  if i%3==0 and i%5==0:\n",
        "    print('FizzBuzz')\n",
        "  elif i%5==0:\n",
        "    print('Buzz')\n",
        "  elif   i%3==0:\n",
        "    print('Fizz')\n",
        "  else:\n",
        "    print(i)"
      ],
      "metadata": {
        "id": "l1LB8ag2S-lH"
      },
      "execution_count": null,
      "outputs": []
    },
    {
      "cell_type": "code",
      "source": [
        "sayı = int(input(\"kaça kadar :\"))\n",
        "liste = []\n",
        "for rakam in range(1,sayı + 1):\n",
        "    if rakam % 3 == 0 and rakam % 5 != 0:\n",
        "        rakam = \"fizz\"\n",
        "        liste.append(rakam)\n",
        "    elif rakam % 5 == 0 and rakam % 3 != 0 :\n",
        "        rakam = \"buzz\"\n",
        "        liste.append(rakam)\n",
        "    elif rakam % 15 == 0:\n",
        "        rakam = \"FizzBuzz\"\n",
        "        liste.append(rakam)\n",
        "    else:              \n",
        "        liste.append(rakam)\n",
        "print(liste)\n"
      ],
      "metadata": {
        "colab": {
          "base_uri": "https://localhost:8080/"
        },
        "id": "3c0o1_oWS-q2",
        "outputId": "2f8ba861-e8a3-4686-b909-ec19e90675fd"
      },
      "execution_count": null,
      "outputs": [
        {
          "output_type": "stream",
          "name": "stdout",
          "text": [
            "kaça kadar :100\n",
            "[1, 2, 'fizz', 4, 'buzz', 'fizz', 7, 8, 'fizz', 'buzz', 11, 'fizz', 13, 14, 'FizzBuzz', 16, 17, 'fizz', 19, 'buzz', 'fizz', 22, 23, 'fizz', 'buzz', 26, 'fizz', 28, 29, 'FizzBuzz', 31, 32, 'fizz', 34, 'buzz', 'fizz', 37, 38, 'fizz', 'buzz', 41, 'fizz', 43, 44, 'FizzBuzz', 46, 47, 'fizz', 49, 'buzz', 'fizz', 52, 53, 'fizz', 'buzz', 56, 'fizz', 58, 59, 'FizzBuzz', 61, 62, 'fizz', 64, 'buzz', 'fizz', 67, 68, 'fizz', 'buzz', 71, 'fizz', 73, 74, 'FizzBuzz', 76, 77, 'fizz', 79, 'buzz', 'fizz', 82, 83, 'fizz', 'buzz', 86, 'fizz', 88, 89, 'FizzBuzz', 91, 92, 'fizz', 94, 'buzz', 'fizz', 97, 98, 'fizz', 'buzz']\n"
          ]
        }
      ]
    },
    {
      "cell_type": "code",
      "source": [
        "for i in range(1,101):\n",
        "  if not i % 3 and not i % 5:\n",
        "    i = 'FizzBuzz'\n",
        "    print(i, end = ' ')\n",
        "  elif not i % 3:\n",
        "    i = 'Fizz'\n",
        "    print(i, end = ' ')\n",
        "  elif not i % 5:\n",
        "    i = 'Buzz'\n",
        "    print(i, end = ' ')\n",
        "  else:\n",
        "    i = i\n",
        "    print(i, end = ' ')\n"
      ],
      "metadata": {
        "colab": {
          "base_uri": "https://localhost:8080/"
        },
        "id": "umNw5TbIS-yl",
        "outputId": "5cdb61f4-06ce-4299-c31a-bb0315006f96"
      },
      "execution_count": null,
      "outputs": [
        {
          "output_type": "stream",
          "name": "stdout",
          "text": [
            "1 2 Fizz 4 Buzz Fizz 7 8 Fizz Buzz 11 Fizz 13 14 FizzBuzz 16 17 Fizz 19 Buzz Fizz 22 23 Fizz Buzz 26 Fizz 28 29 FizzBuzz 31 32 Fizz 34 Buzz Fizz 37 38 Fizz Buzz 41 Fizz 43 44 FizzBuzz 46 47 Fizz 49 Buzz Fizz 52 53 Fizz Buzz 56 Fizz 58 59 FizzBuzz 61 62 Fizz 64 Buzz Fizz 67 68 Fizz Buzz 71 Fizz 73 74 FizzBuzz 76 77 Fizz 79 Buzz Fizz 82 83 Fizz Buzz 86 Fizz 88 89 FizzBuzz 91 92 Fizz 94 Buzz Fizz 97 98 Fizz Buzz "
          ]
        }
      ]
    },
    {
      "cell_type": "code",
      "source": [
        "for i in range(1,101) :\n",
        "    if not i % 15 :\n",
        "        i = \"FizzBuzz\"\n",
        "    elif not i % 5 :\n",
        "        i = \"Buzz\"\n",
        "    elif not i % 3 :\n",
        "        i = \"Fizz\"\n",
        "    print(i)"
      ],
      "metadata": {
        "id": "vCWiQts-UezO"
      },
      "execution_count": null,
      "outputs": []
    },
    {
      "cell_type": "code",
      "source": [
        ""
      ],
      "metadata": {
        "id": "ZU5iGDEEUe5F"
      },
      "execution_count": null,
      "outputs": []
    },
    {
      "cell_type": "code",
      "source": [
        ""
      ],
      "metadata": {
        "id": "rYH1CNsTUe-A"
      },
      "execution_count": null,
      "outputs": []
    }
  ]
}