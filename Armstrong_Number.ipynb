{
  "nbformat": 4,
  "nbformat_minor": 0,
  "metadata": {
    "colab": {
      "name": "Untitled38.ipynb",
      "provenance": [],
      "authorship_tag": "ABX9TyNFQSnnmxakKze51ioignff",
      "include_colab_link": true
    },
    "kernelspec": {
      "name": "python3",
      "display_name": "Python 3"
    },
    "language_info": {
      "name": "python"
    }
  },
  "cells": [
    {
      "cell_type": "markdown",
      "metadata": {
        "id": "view-in-github",
        "colab_type": "text"
      },
      "source": [
        "<a href=\"https://colab.research.google.com/github/aloga/Python_Exercises/blob/main/Armstrong_Number.ipynb\" target=\"_parent\"><img src=\"https://colab.research.google.com/assets/colab-badge.svg\" alt=\"Open In Colab\"/></a>"
      ]
    },
    {
      "cell_type": "code",
      "execution_count": 2,
      "metadata": {
        "colab": {
          "base_uri": "https://localhost:8080/"
        },
        "id": "NBiSDycTHZMj",
        "outputId": "438a4f51-1276-419a-bbfe-dd3e5cdfb6f7"
      },
      "outputs": [
        {
          "output_type": "stream",
          "name": "stdout",
          "text": [
            "Enter a number ==> 123\n",
            "123 is not an n-Armstrong Number\n"
          ]
        }
      ],
      "source": [
        "state = True\n",
        "while state:\n",
        "  number = input('Enter a number ==> ')\n",
        "  if not number.isnumeric():\n",
        "      sate = True\n",
        "      print('Invalid number try again')\n",
        "  else:\n",
        "    state = False\n",
        "length = len(number)\n",
        "result = 0\n",
        "for i in number:\n",
        "  result += int(i)**length\n",
        "if result == int(number):\n",
        "    print(f\"{number} is an n-Armstrong Number\")\n",
        "else:\n",
        "    print(f\"{number} is not an n-Armstrong Number\")\n"
      ]
    },
    {
      "cell_type": "code",
      "source": [
        ""
      ],
      "metadata": {
        "id": "sy1GbqwPHlJy"
      },
      "execution_count": null,
      "outputs": []
    }
  ]
}